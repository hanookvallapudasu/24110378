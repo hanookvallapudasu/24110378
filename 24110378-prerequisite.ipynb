{
 "cells": [
  {
   "cell_type": "code",
   "execution_count": 5,
   "id": "df2d0b26-f9a7-4692-b9ba-54c24ef805c7",
   "metadata": {},
   "outputs": [
    {
     "name": "stdout",
     "output_type": "stream",
     "text": [
      "[1, 2, 3, 4, 5, 6, 7, 8, 9, 10, 11, 12, 13, 14, 15, 16, 17, 18, 19, 20]\n",
      "110\n",
      "100\n",
      "10.5\n",
      "10.5\n",
      "5.766281297335398\n"
     ]
    }
   ],
   "source": [
    "a=[]\n",
    "b=0\n",
    "for i in range (1,21):\n",
    "    a.append(i)\n",
    "    b=b+i\n",
    "#b is the sum of the list\n",
    "print(a)\n",
    "s=0\n",
    "for j in a:\n",
    "    if j%2==0:\n",
    "        s=s+j\n",
    "print(s)\n",
    "sum=0\n",
    "for k in a:\n",
    "    if k%2!=0:\n",
    "        sum=sum+k\n",
    "print(sum)\n",
    "mean=(b/len(a))\n",
    "print(mean)\n",
    "#since this is a list of natural numbers n/2 th term is equal to n/2\n",
    "median=((i/2)+(i/2+1))/2\n",
    "print(median)\n",
    "l=0\n",
    "for m in a:\n",
    "    l=l+((m-mean)**2)\n",
    "var=l/len(a)\n",
    "stdev=var**0.5\n",
    "print(stdev)\n"
   ]
  },
  {
   "cell_type": "markdown",
   "id": "88622952-a8e5-49a0-80ed-baf46aa827fe",
   "metadata": {},
   "source": [
    "question 2:"
   ]
  },
  {
   "cell_type": "markdown",
   "id": "99ca3725-a5fe-48cc-99d6-ca1d3b49c85b",
   "metadata": {},
   "source": [
    "The two types of data types in pyhton are mutable and immutable.\n",
    "Mutable Datatype:in this type of datatype we can change or modify the values even after their creation.\n",
    "examples of this type of datatype are lists and dictionaries.\n",
    "Immutable Datatype:in this type of datatype we cannot change or modify the values after their creation.\n",
    "example of this type of datatype is tuple."
   ]
  },
  {
   "cell_type": "code",
   "execution_count": 11,
   "id": "1777b2ef-d29c-436b-81ef-4a0f9b6856a8",
   "metadata": {
    "scrolled": true
   },
   "outputs": [
    {
     "name": "stdin",
     "output_type": "stream",
     "text": [
      " 7\n"
     ]
    },
    {
     "name": "stdout",
     "output_type": "stream",
     "text": [
      "0 1 1 2 3 5 8 "
     ]
    }
   ],
   "source": [
    "#Question 3:\n",
    "\n",
    "n=int(input())\n",
    "a=0\n",
    "b=1\n",
    "for i in range(n):\n",
    "    print(a,end=\" \")\n",
    "    c=a+b\n",
    "    a=b\n",
    "    b=c"
   ]
  },
  {
   "cell_type": "code",
   "execution_count": 13,
   "id": "9357d789-1fd1-4cdc-ba6f-296e41a8f278",
   "metadata": {},
   "outputs": [
    {
     "name": "stdout",
     "output_type": "stream",
     "text": [
      "[13, 11, 9, 6, 5, 3]\n",
      "7.833333333333333\n",
      "7.5\n"
     ]
    }
   ],
   "source": [
    "#question 4\n",
    "l=[3, 5, 7, 9, 11, 13]\n",
    "l.insert(3,6)\n",
    "l.remove(7)\n",
    "l.reverse()\n",
    "print(l)\n",
    "s=0\n",
    "for i in l:\n",
    "    s=s+i\n",
    "mean=s/len(l)\n",
    "print(mean)\n",
    "#since the number of elements in the data is 6\n",
    "median=(l[len(l)//2-1]+l[len(l)//2])/2\n",
    "print(median)"
   ]
  },
  {
   "cell_type": "code",
   "execution_count": 14,
   "id": "ca6be840-63ae-4ada-9696-e82ba8c56635",
   "metadata": {},
   "outputs": [
    {
     "name": "stdin",
     "output_type": "stream",
     "text": [
      " 10,20,30,40\n"
     ]
    },
    {
     "name": "stdout",
     "output_type": "stream",
     "text": [
      "25.0\n",
      "10\n",
      "40\n"
     ]
    }
   ],
   "source": [
    "#question 5\n",
    "a=input()\n",
    "l=[int(x) for x in a.split(\",\")]\n",
    "s=0\n",
    "for i in l:\n",
    "    s=s+i\n",
    "mean=s/len(l)\n",
    "print(mean)\n",
    "print(min(l))\n",
    "print(max(l))"
   ]
  },
  {
   "cell_type": "code",
   "execution_count": 18,
   "id": "85376449-fc23-4e91-9d4a-edf63675f691",
   "metadata": {},
   "outputs": [
    {
     "name": "stdin",
     "output_type": "stream",
     "text": [
      " A man a plan a canal Panama\n"
     ]
    },
    {
     "name": "stdout",
     "output_type": "stream",
     "text": [
      "True\n"
     ]
    }
   ],
   "source": [
    "#question 6\n",
    "def palindrome():\n",
    "    a=input()\n",
    "    a=a.replace(\" \",\"\")\n",
    "    a=a.lower()\n",
    "    if a== a[::-1]:\n",
    "        return True\n",
    "    else:\n",
    "        return False\n",
    "if palindrome():\n",
    "    print(\"True\")\n",
    "else:\n",
    "    print(\"False\")"
   ]
  },
  {
   "cell_type": "code",
   "execution_count": 21,
   "id": "335831a0-7cde-4cdb-9efd-f717db9896f2",
   "metadata": {},
   "outputs": [
    {
     "name": "stdout",
     "output_type": "stream",
     "text": [
      "332\n",
      "66.4\n",
      "['a', 'b', 'c']\n"
     ]
    }
   ],
   "source": [
    "#question 7\n",
    "dict1={\"a\": 85, \"b\": 76 ,\"c\": 67, \"d\": 55 , \"e\":49}\n",
    "marks =[value for value in dict1.values()]\n",
    "s=0\n",
    "for i in marks:\n",
    "    s=s+i\n",
    "print(s)\n",
    "g=(s/len(marks))\n",
    "print(g)\n",
    "h=[]\n",
    "for student,mark in dict1.items():\n",
    "    if mark >=g:\n",
    "        h.append(student)\n",
    "print(h)"
   ]
  },
  {
   "cell_type": "code",
   "execution_count": 22,
   "id": "4ba7a142-b0e3-4e67-9f82-7b103b9d3ec3",
   "metadata": {},
   "outputs": [
    {
     "name": "stdout",
     "output_type": "stream",
     "text": [
      "[(1, 1), (2, 4), (3, 9), (4, 16), (5, 25), (6, 36), (7, 49), (8, 64), (9, 81), (10, 100)]\n"
     ]
    }
   ],
   "source": [
    "#question 8\n",
    "tup1=[(i,i*i) for i in range(1,11)]\n",
    "print(tup1)"
   ]
  },
  {
   "cell_type": "code",
   "execution_count": 23,
   "id": "2b8fcf59-c27c-480a-820d-dbb8a16c9aee",
   "metadata": {},
   "outputs": [
    {
     "name": "stdout",
     "output_type": "stream",
     "text": [
      "{'a': 10, 'b': 25, 'c': 15}\n"
     ]
    }
   ],
   "source": [
    "#question 9\n",
    "dict1 = {'a': 10, 'b': 20}\n",
    "dict2 = {'b': 5, 'c': 15}\n",
    "dict3={}\n",
    "for a,b in dict1.items() :\n",
    "    dict3[a]=b\n",
    "for a,b in dict2.items():\n",
    "    if a in dict3:\n",
    "        dict3[a]+=b\n",
    "    else:\n",
    "        dict3[a]=b\n",
    "print(dict3)\n"
   ]
  },
  {
   "cell_type": "code",
   "execution_count": 24,
   "id": "be6e3913-6bda-4449-bef9-42d6bdd25266",
   "metadata": {},
   "outputs": [
    {
     "name": "stdin",
     "output_type": "stream",
     "text": [
      " indian institute of technology gandhinagar\n"
     ]
    },
    {
     "name": "stdout",
     "output_type": "stream",
     "text": [
      "{'indian': 6, 'institute': 9, 'of': 2, 'technology': 10, 'gandhinagar': 11}\n"
     ]
    }
   ],
   "source": [
    "#question 10\n",
    "a=input(\"\")\n",
    "a=a.lower()\n",
    "c=[x for x in a.split()]\n",
    "b={}\n",
    "for i in c:\n",
    "    b[i]=len(i)\n",
    "print(b)"
   ]
  },
  {
   "cell_type": "code",
   "execution_count": 26,
   "id": "b3b2d615-adc2-497d-83bc-7c512f2d629e",
   "metadata": {},
   "outputs": [
    {
     "name": "stdout",
     "output_type": "stream",
     "text": [
      "['1', '3', '4', '5', '2']\n",
      "3.0\n",
      "3\n"
     ]
    }
   ],
   "source": [
    "#question 11\n",
    "a=[\"1\", \"3\", \"4\", \"5\", \"2\", \"3\", \"3\"]\n",
    "b=[]\n",
    "for i in a:\n",
    "    if i not in b:\n",
    "        b.append(i)\n",
    "print(b)\n",
    "d=len(b)\n",
    "s=0\n",
    "for j in b:\n",
    "    s=s+int(j)\n",
    "mean=s/len(b)\n",
    "print(mean)\n",
    "b.sort()\n",
    "#since the total no of items in the list is 5 which is an odd number so the median will be ((n+1)/2)th term\n",
    "median=b[int((d+1)/2)-1]\n",
    "print(median)"
   ]
  },
  {
   "cell_type": "code",
   "execution_count": 27,
   "id": "f10ce6d6-9bda-4d91-a102-02b1c5525e57",
   "metadata": {},
   "outputs": [
    {
     "name": "stdout",
     "output_type": "stream",
     "text": [
      "There is an iit in gandhinagar\n",
      "4\n"
     ]
    }
   ],
   "source": [
    "#question 12\n",
    "l=[\"IIt Bombay\", \"IIt Madras\",\"IIT delhi\",\"IIT Gandhinagar\",\"There is an iit in gandhinagar\"]\n",
    "longest=l[0]\n",
    "for i in l:\n",
    "    if len(i)>len(longest):\n",
    "        longest=i\n",
    "print(longest)\n",
    "count=0\n",
    "for i in l:\n",
    "    if i[0] in \"aeiouAEIOU\":\n",
    "        count+=1\n",
    "print(count)"
   ]
  },
  {
   "cell_type": "code",
   "execution_count": 28,
   "id": "c1c97f9f-f496-40f2-884b-b6f81bd0fb9b",
   "metadata": {},
   "outputs": [
    {
     "name": "stdout",
     "output_type": "stream",
     "text": [
      "[{'name': 'bob', 'age': 22}, {'name': 'Alice', 'age': 25}]\n"
     ]
    }
   ],
   "source": [
    "#question 13\n",
    "a=[{\"name\": \"Alice\", \"age\": 25},{\"name\": \"bob\", \"age\": 22}]\n",
    "b=sorted(a,key=lambda item :item[\"age\"])\n",
    "print(b)"
   ]
  },
  {
   "cell_type": "code",
   "execution_count": 29,
   "id": "a561b25f-7c7b-4a1e-b82c-0a326f7ae4ed",
   "metadata": {},
   "outputs": [
    {
     "name": "stdout",
     "output_type": "stream",
     "text": [
      "['There', 'are', '23', 'IIts', 'in', 'India']\n",
      "['There', 'IIts', 'India']\n",
      "['IIts', 'India', 'There']\n"
     ]
    }
   ],
   "source": [
    "#question 14\n",
    "a=\"There are 23 IIts in India\"\n",
    "l=[x for x in a.split()]\n",
    "print(l)\n",
    "m=[i for i in l if len(i)>=4]\n",
    "print(m)\n",
    "m=sorted(m)\n",
    "print(m)"
   ]
  },
  {
   "cell_type": "code",
   "execution_count": 30,
   "id": "fa13936c-955d-457c-b938-f39178bf90b9",
   "metadata": {},
   "outputs": [
    {
     "name": "stdout",
     "output_type": "stream",
     "text": [
      "['enlist', 'inlets']\n"
     ]
    }
   ],
   "source": [
    "#question 15\n",
    "a=\"listen\"\n",
    "b=[\"enlist\",\"google\",\"inlets\",\"banana\"]\n",
    "s=0\n",
    "for i in a:\n",
    "    s=s+ord(i)\n",
    "l=[]\n",
    "for j in b:\n",
    "    m=0\n",
    "    for k in j:\n",
    "        m=m+ord(k)\n",
    "    if m==s:\n",
    "        l.append(j)\n",
    "print(l)\n"
   ]
  },
  {
   "cell_type": "code",
   "execution_count": 31,
   "id": "6fa822aa-1e70-4246-a96a-4f5705f1f636",
   "metadata": {},
   "outputs": [
    {
     "name": "stdout",
     "output_type": "stream",
     "text": [
      "[1, 2, 3, 4, 5, 6, 7, 8, 9]\n",
      "[1, 5, 9]\n",
      "[2, 3, 4, 6, 7, 8]\n"
     ]
    }
   ],
   "source": [
    "#question 16\n",
    "a=[1,2,3,5,7,9]\n",
    "b=[1,4,5,6,8,9]\n",
    "c=[]\n",
    "for i in a:\n",
    "    c.append(i)\n",
    "for i in b:\n",
    "    if i not in c:\n",
    "        c.append(i)\n",
    "    e=sorted(c)\n",
    "print(e)\n",
    "d=[]\n",
    "for i in a:\n",
    "    if i in b:\n",
    "        d.append(i)\n",
    "print(d)\n",
    "f=[]\n",
    "for i in a:\n",
    "    if i not in b:\n",
    "        f.append(i)\n",
    "for i in b:\n",
    "    if i not in a:\n",
    "        f.append(i)\n",
    "f=sorted(f)\n",
    "print(f)"
   ]
  },
  {
   "cell_type": "code",
   "execution_count": 32,
   "id": "a961c1d7-5d04-4696-b3ae-790b421efcd6",
   "metadata": {},
   "outputs": [
    {
     "name": "stdout",
     "output_type": "stream",
     "text": [
      "5050\n"
     ]
    }
   ],
   "source": [
    "#question 17\n",
    "a=open(\"myfile.txt\",\"w\")\n",
    "for i in range (1,101):\n",
    "    a.write(f\"{i}\\n\")\n",
    "a.close()\n",
    "b=open(\"myfile.txt\", \"r\")\n",
    "s=0\n",
    "for i in b:\n",
    "    s=s+int(i)\n",
    "print(s)\n",
    "b.close()\n"
   ]
  },
  {
   "cell_type": "code",
   "execution_count": 33,
   "id": "468be01e-5fa5-4413-b05b-ecab5358a3be",
   "metadata": {},
   "outputs": [
    {
     "name": "stdout",
     "output_type": "stream",
     "text": [
      "12\n",
      "iit\n"
     ]
    }
   ],
   "source": [
    "#question 18\n",
    "a=open(\"myfile.txt\",\"w\")\n",
    "a.write(\"IIT kharagpur is the oldest IIT among all the IITs in India\")\n",
    "a.close()\n",
    "b=open(\"myfile.txt\",\"r\")\n",
    "c=b.read()\n",
    "c=c.lower()\n",
    "d=[x for x in c.split()]\n",
    "print(len(d))\n",
    "words=c.split()\n",
    "counts={}\n",
    "for word in words:\n",
    "    counts[word]=counts.get(word, 0)+1\n",
    "highfreq=max(counts,key=counts.get)\n",
    "print(highfreq)"
   ]
  },
  {
   "cell_type": "code",
   "execution_count": 34,
   "id": "9b92d946-b0f0-4d86-aaf8-ac0bafaabb92",
   "metadata": {},
   "outputs": [
    {
     "name": "stdout",
     "output_type": "stream",
     "text": [
      "24.63\n"
     ]
    }
   ],
   "source": [
    "#question 19\n",
    "import random\n",
    "a=open(\"myfiles.txt\",\"w\")\n",
    "for i in range(100):\n",
    "    a.write(f\"{random.randint(1,51)}\\n\")\n",
    "a.close()\n",
    "b=open(\"myfiles.txt\",\"r\")\n",
    "c=b.read()\n",
    "n=[int(x)for x in c.strip().split('\\n')]\n",
    "s=0\n",
    "for i in n:\n",
    "    s=s+int(i)\n",
    "mean=s/100\n",
    "print(mean)"
   ]
  },
  {
   "cell_type": "code",
   "execution_count": 37,
   "id": "9639e1df-4b6b-4c3e-aee6-7fb295963a54",
   "metadata": {},
   "outputs": [
    {
     "name": "stdout",
     "output_type": "stream",
     "text": [
      "27\n",
      "29\n",
      "31\n",
      "13\n",
      "20\n"
     ]
    }
   ],
   "source": [
    "#question 20\n",
    "import csv\n",
    "import random\n",
    "csvfiles=\"files.csv\"\n",
    "f=[0]*5\n",
    "l=[[random.randint(0,9) for i in range(5)]for j in range(5)]\n",
    "with open(csvfiles,\"w\",newline=\"\") as b:\n",
    "    writer=csv.writer(b)\n",
    "    writer.writerows(l)\n",
    "with open(csvfiles,\"r\") as b:\n",
    "    c=csv.reader(b)\n",
    "    for row in c:\n",
    "        for k in range(5):\n",
    "            f[k]+=int(row[k])\n",
    "for i in range (5):\n",
    "    print(f[i])\n"
   ]
  },
  {
   "cell_type": "code",
   "execution_count": 39,
   "id": "ffc0db9f-9a0c-4fc3-a141-851147cebdd7",
   "metadata": {},
   "outputs": [
    {
     "name": "stdout",
     "output_type": "stream",
     "text": [
      "50.5\n",
      "50.5\n",
      "28.86607004772212\n"
     ]
    }
   ],
   "source": [
    "#question 21\n",
    "l=[x for x in range(1,101)]\n",
    "s=0\n",
    "for i in l:\n",
    "    s=s+i\n",
    "mean=s/len(l)\n",
    "print(mean)\n",
    "median=(l[len(l)//2-1]+l[len(l)//2])/2\n",
    "print(median)\n",
    "a=0\n",
    "for i in l:\n",
    "    a=(i-mean)**2+a\n",
    "stdev=(a/len(l))**.5\n",
    "print(stdev)\n"
   ]
  },
  {
   "cell_type": "code",
   "execution_count": 46,
   "id": "10529952-07ca-4762-8ccd-e429913dc3b2",
   "metadata": {},
   "outputs": [
    {
     "name": "stdout",
     "output_type": "stream",
     "text": [
      "0.0\n",
      "0.010101010101010102\n",
      "0.020202020202020204\n",
      "0.030303030303030304\n",
      "0.04040404040404041\n",
      "0.050505050505050504\n",
      "0.06060606060606061\n",
      "0.0707070707070707\n",
      "0.08080808080808081\n",
      "0.09090909090909091\n",
      "0.10101010101010101\n",
      "0.1111111111111111\n",
      "0.12121212121212122\n",
      "0.13131313131313133\n",
      "0.1414141414141414\n",
      "0.15151515151515152\n",
      "0.16161616161616163\n",
      "0.1717171717171717\n",
      "0.18181818181818182\n",
      "0.1919191919191919\n",
      "0.20202020202020202\n",
      "0.21212121212121213\n",
      "0.2222222222222222\n",
      "0.23232323232323232\n",
      "0.24242424242424243\n",
      "0.25252525252525254\n",
      "0.26262626262626265\n",
      "0.2727272727272727\n",
      "0.2828282828282828\n",
      "0.29292929292929293\n",
      "0.30303030303030304\n",
      "0.31313131313131315\n",
      "0.32323232323232326\n",
      "0.3333333333333333\n",
      "0.3434343434343434\n",
      "0.35353535353535354\n",
      "0.36363636363636365\n",
      "0.37373737373737376\n",
      "0.3838383838383838\n",
      "0.3939393939393939\n",
      "0.40404040404040403\n",
      "0.41414141414141414\n",
      "0.42424242424242425\n",
      "0.43434343434343436\n",
      "0.4444444444444444\n",
      "0.45454545454545453\n",
      "0.46464646464646464\n",
      "0.47474747474747475\n",
      "0.48484848484848486\n",
      "0.494949494949495\n",
      "0.5050505050505051\n",
      "0.5151515151515151\n",
      "0.5252525252525253\n",
      "0.5353535353535354\n",
      "0.5454545454545454\n",
      "0.5555555555555556\n",
      "0.5656565656565656\n",
      "0.5757575757575758\n",
      "0.5858585858585859\n",
      "0.5959595959595959\n",
      "0.6060606060606061\n",
      "0.6161616161616161\n",
      "0.6262626262626263\n",
      "0.6363636363636364\n",
      "0.6464646464646465\n",
      "0.6565656565656566\n",
      "0.6666666666666666\n",
      "0.6767676767676768\n",
      "0.6868686868686869\n",
      "0.696969696969697\n",
      "0.7070707070707071\n",
      "0.7171717171717171\n",
      "0.7272727272727273\n",
      "0.7373737373737373\n",
      "0.7474747474747475\n",
      "0.7575757575757576\n",
      "0.7676767676767676\n",
      "0.7777777777777778\n",
      "0.7878787878787878\n",
      "0.797979797979798\n",
      "0.8080808080808081\n",
      "0.8181818181818182\n",
      "0.8282828282828283\n",
      "0.8383838383838383\n",
      "0.8484848484848485\n",
      "0.8585858585858586\n",
      "0.8686868686868687\n",
      "0.8787878787878788\n",
      "0.8888888888888888\n",
      "0.898989898989899\n",
      "0.9090909090909091\n",
      "0.9191919191919192\n",
      "0.9292929292929293\n",
      "0.9393939393939394\n",
      "0.9494949494949495\n",
      "0.9595959595959596\n",
      "0.9696969696969697\n",
      "0.9797979797979798\n",
      "0.98989898989899\n",
      "1.0\n"
     ]
    }
   ],
   "source": [
    "#question 22\n",
    "l=[i for i in range(1,101)]\n",
    "for j in l:\n",
    "    n=(j-min(l))/(max(l)-min(l))\n",
    "    print(n)"
   ]
  },
  {
   "cell_type": "code",
   "execution_count": 47,
   "id": "1880430c-2a3f-4f63-8e3e-4e5eec620e58",
   "metadata": {},
   "outputs": [
    {
     "name": "stdin",
     "output_type": "stream",
     "text": [
      " 7\n"
     ]
    },
    {
     "name": "stdout",
     "output_type": "stream",
     "text": [
      "odd\n"
     ]
    }
   ],
   "source": [
    "#question 23\n",
    "a=int(input())\n",
    "if a%2==0:\n",
    "    print(\"even\")\n",
    "else:\n",
    "    print(\"odd\")"
   ]
  },
  {
   "cell_type": "code",
   "execution_count": 48,
   "id": "88c67128-c47f-4edd-b55c-00a1baa60bdb",
   "metadata": {},
   "outputs": [
    {
     "name": "stdin",
     "output_type": "stream",
     "text": [
      " 95\n"
     ]
    },
    {
     "name": "stdout",
     "output_type": "stream",
     "text": [
      "A\n"
     ]
    }
   ],
   "source": [
    "#question 24\n",
    "a=int(input())\n",
    "if a<=100 and a>=90:\n",
    "    print(\"A\")\n",
    "if a<90 and a>=75:\n",
    "    print(\"B\")\n",
    "if a<75 and a>=60:\n",
    "    print(\"C\")\n",
    "if a<60 and a>=55:\n",
    "    print(\"D\")\n",
    "if a<55 and a>=40:\n",
    "    print(\"E\")\n",
    "if a<40:\n",
    "    print(\"F\")"
   ]
  },
  {
   "cell_type": "code",
   "execution_count": 49,
   "id": "3837380d-ef9b-4fb7-839d-c7e84fe15bff",
   "metadata": {},
   "outputs": [
    {
     "name": "stdin",
     "output_type": "stream",
     "text": [
      " 2025\n"
     ]
    },
    {
     "name": "stdout",
     "output_type": "stream",
     "text": [
      "no its not a leapyear\n"
     ]
    }
   ],
   "source": [
    "#question 25\n",
    "a=int(input())\n",
    "def leapyear():\n",
    "    if a%4==0:\n",
    "        if a%100==0:\n",
    "            if a%400==0:\n",
    "                return True\n",
    "            else:\n",
    "                return False\n",
    "        else:\n",
    "            return True\n",
    "    else:\n",
    "        return False\n",
    "if leapyear():\n",
    "    print(\"yes it is a leap year\")\n",
    "else:\n",
    "    print(\"no its not a leapyear\")"
   ]
  },
  {
   "cell_type": "code",
   "execution_count": null,
   "id": "89cb9f55-253a-43dc-929a-6a3e6a780d79",
   "metadata": {},
   "outputs": [],
   "source": []
  }
 ],
 "metadata": {
  "kernelspec": {
   "display_name": "Python 3 (ipykernel)",
   "language": "python",
   "name": "python3"
  },
  "language_info": {
   "codemirror_mode": {
    "name": "ipython",
    "version": 3
   },
   "file_extension": ".py",
   "mimetype": "text/x-python",
   "name": "python",
   "nbconvert_exporter": "python",
   "pygments_lexer": "ipython3",
   "version": "3.13.0"
  }
 },
 "nbformat": 4,
 "nbformat_minor": 5
}
